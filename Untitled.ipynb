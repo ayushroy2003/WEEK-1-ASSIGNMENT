{
 "cells": [
  {
   "cell_type": "code",
   "execution_count": 2,
   "id": "01ca8cc8-4e5f-4972-92c2-fd16d6250370",
   "metadata": {},
   "outputs": [],
   "source": [
    "#Q1. Create one variable containing following type of data:"
   ]
  },
  {
   "cell_type": "code",
   "execution_count": 3,
   "id": "26b8d747-1ac7-4811-befc-092c9281373e",
   "metadata": {},
   "outputs": [
    {
     "data": {
      "text/plain": [
       "'hello this is stirng'"
      ]
     },
     "execution_count": 3,
     "metadata": {},
     "output_type": "execute_result"
    }
   ],
   "source": [
    "# (i) String\n",
    "s = \"hello this is stirng\""
   ]
  },
  {
   "cell_type": "code",
   "execution_count": 4,
   "id": "6bb85340-839e-4ada-9891-dc3878894924",
   "metadata": {},
   "outputs": [],
   "source": [
    "# (ii) List\n",
    "l = [2,3,4,5,6,]"
   ]
  },
  {
   "cell_type": "code",
   "execution_count": 5,
   "id": "a39f1463-0084-4762-a9e9-63a9bbf419b4",
   "metadata": {},
   "outputs": [],
   "source": [
    "# (iii) Float\n",
    "f = 34.44"
   ]
  },
  {
   "cell_type": "code",
   "execution_count": 6,
   "id": "7ba63c8d-cc88-42c0-904f-321caeaddd14",
   "metadata": {},
   "outputs": [],
   "source": [
    "# (iv) Tuple\n",
    "t = (10,20,30,40,50,)"
   ]
  },
  {
   "cell_type": "code",
   "execution_count": null,
   "id": "b7605de7-30b9-4188-8f31-c8599cf3e499",
   "metadata": {},
   "outputs": [],
   "source": []
  }
 ],
 "metadata": {
  "kernelspec": {
   "display_name": "Python 3 (ipykernel)",
   "language": "python",
   "name": "python3"
  },
  "language_info": {
   "codemirror_mode": {
    "name": "ipython",
    "version": 3
   },
   "file_extension": ".py",
   "mimetype": "text/x-python",
   "name": "python",
   "nbconvert_exporter": "python",
   "pygments_lexer": "ipython3",
   "version": "3.10.8"
  }
 },
 "nbformat": 4,
 "nbformat_minor": 5
}
